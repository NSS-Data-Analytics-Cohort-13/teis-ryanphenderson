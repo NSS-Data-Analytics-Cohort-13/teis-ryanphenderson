{
 "cells": [
  {
   "cell_type": "code",
   "execution_count": 1,
   "id": "eb039558-7353-421d-9c97-ab247c7c4a8c",
   "metadata": {},
   "outputs": [],
   "source": [
    "import pandas as pd\n",
    "import numpy as np\n",
    "import matplotlib.pyplot as plt\n",
    "import seaborn as sns"
   ]
  },
  {
   "cell_type": "code",
   "execution_count": 3,
   "id": "be62a1d1-65d4-447e-b103-4c9ec5ce3d66",
   "metadata": {},
   "outputs": [],
   "source": [
    "final_counts = pd.read_csv('../data/final_category_counts.csv')"
   ]
  },
  {
   "cell_type": "code",
   "execution_count": 9,
   "id": "7b2f17e0-e090-4768-8a19-7bcd56a8e9b0",
   "metadata": {},
   "outputs": [
    {
     "data": {
      "text/html": [
       "<div>\n",
       "<style scoped>\n",
       "    .dataframe tbody tr th:only-of-type {\n",
       "        vertical-align: middle;\n",
       "    }\n",
       "\n",
       "    .dataframe tbody tr th {\n",
       "        vertical-align: top;\n",
       "    }\n",
       "\n",
       "    .dataframe thead th {\n",
       "        text-align: right;\n",
       "    }\n",
       "</style>\n",
       "<table border=\"1\" class=\"dataframe\">\n",
       "  <thead>\n",
       "    <tr style=\"text-align: right;\">\n",
       "      <th></th>\n",
       "      <th>Unnamed: 0</th>\n",
       "      <th>category</th>\n",
       "      <th>outcome1_counts</th>\n",
       "      <th>outcome2_counts</th>\n",
       "      <th>outcome3_counts</th>\n",
       "    </tr>\n",
       "  </thead>\n",
       "  <tbody>\n",
       "    <tr>\n",
       "      <th>4</th>\n",
       "      <td>4</td>\n",
       "      <td>a</td>\n",
       "      <td>87</td>\n",
       "      <td>59</td>\n",
       "      <td>21</td>\n",
       "    </tr>\n",
       "    <tr>\n",
       "      <th>2</th>\n",
       "      <td>2</td>\n",
       "      <td>b</td>\n",
       "      <td>502</td>\n",
       "      <td>1500</td>\n",
       "      <td>1239</td>\n",
       "    </tr>\n",
       "    <tr>\n",
       "      <th>3</th>\n",
       "      <td>3</td>\n",
       "      <td>c</td>\n",
       "      <td>151</td>\n",
       "      <td>555</td>\n",
       "      <td>248</td>\n",
       "    </tr>\n",
       "    <tr>\n",
       "      <th>1</th>\n",
       "      <td>1</td>\n",
       "      <td>d</td>\n",
       "      <td>915</td>\n",
       "      <td>1255</td>\n",
       "      <td>1012</td>\n",
       "    </tr>\n",
       "    <tr>\n",
       "      <th>0</th>\n",
       "      <td>0</td>\n",
       "      <td>e</td>\n",
       "      <td>2025</td>\n",
       "      <td>311</td>\n",
       "      <td>1160</td>\n",
       "    </tr>\n",
       "  </tbody>\n",
       "</table>\n",
       "</div>"
      ],
      "text/plain": [
       "   Unnamed: 0 category  outcome1_counts  outcome2_counts  outcome3_counts\n",
       "4           4        a               87               59               21\n",
       "2           2        b              502             1500             1239\n",
       "3           3        c              151              555              248\n",
       "1           1        d              915             1255             1012\n",
       "0           0        e             2025              311             1160"
      ]
     },
     "execution_count": 9,
     "metadata": {},
     "output_type": "execute_result"
    }
   ],
   "source": [
    "final_counts.sort_values('category')"
   ]
  },
  {
   "cell_type": "code",
   "execution_count": null,
   "id": "b788efd3-e875-4425-bd7d-54a85f1a9618",
   "metadata": {},
   "outputs": [],
   "source": []
  }
 ],
 "metadata": {
  "kernelspec": {
   "display_name": "Python 3 (ipykernel)",
   "language": "python",
   "name": "python3"
  },
  "language_info": {
   "codemirror_mode": {
    "name": "ipython",
    "version": 3
   },
   "file_extension": ".py",
   "mimetype": "text/x-python",
   "name": "python",
   "nbconvert_exporter": "python",
   "pygments_lexer": "ipython3",
   "version": "3.12.7"
  }
 },
 "nbformat": 4,
 "nbformat_minor": 5
}
